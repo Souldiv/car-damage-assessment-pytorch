{
 "cells": [
  {
   "cell_type": "code",
   "execution_count": 1,
   "metadata": {},
   "outputs": [],
   "source": [
    "import torch\n",
    "import torchvision.models as models\n",
    "import torch.nn as nn\n",
    "from torchvision import datasets, transforms\n",
    "import torch.optim as optim\n",
    "from tensorboardX import SummaryWriter\n",
    "from torch.optim import lr_scheduler\n",
    "from sklearn.metrics import confusion_matrix, classification_report\n",
    "import seaborn as sns\n",
    "\n",
    "import numpy as np\n",
    "from PIL import Image\n",
    "import json\n",
    "import os\n",
    "from collections import OrderedDict\n",
    "\n",
    "import matplotlib.pyplot as plt\n",
    "%matplotlib inline"
   ]
  },
  {
   "cell_type": "code",
   "execution_count": 2,
   "metadata": {},
   "outputs": [],
   "source": [
    "data_dir = \"../car_dam/data3a/\"\n",
    "\n",
    "train_transforms = transforms.Compose([transforms.RandomRotation(30),\n",
    "                                       transforms.RandomHorizontalFlip(),\n",
    "                                      transforms.Resize(256),\n",
    "                                      transforms.CenterCrop(224),\n",
    "                                      transforms.ToTensor()])\n",
    "\n",
    "test_transforms = transforms.Compose([transforms.Resize(256),\n",
    "                                      transforms.CenterCrop(224),\n",
    "                                      transforms.ToTensor()])\n",
    "\n",
    "train_data = datasets.ImageFolder(data_dir + '/training', transform=train_transforms)\n",
    "test_data = datasets.ImageFolder(data_dir + '/validation', transform=test_transforms)\n",
    "\n",
    "trainloader = torch.utils.data.DataLoader(train_data, batch_size=128, shuffle=True)\n",
    "testloader = torch.utils.data.DataLoader(test_data, batch_size=128)"
   ]
  },
  {
   "cell_type": "code",
   "execution_count": 3,
   "metadata": {},
   "outputs": [],
   "source": [
    "model = models.resnet152(pretrained=True)\n",
    "fc_in_size = model.fc.in_features\n",
    "model.fc = nn.Sequential(OrderedDict([('fc1', nn.Linear(fc_in_size, 1024)),\n",
    "                                      ('dropout2', nn.Dropout(0.5)),\n",
    "                                      ('relu2', nn.ReLU()),\n",
    "                                      ('fc2', nn.Linear(1024, 3)),\n",
    "                                      ('output', nn.LogSoftmax(dim=1))]))"
   ]
  },
  {
   "cell_type": "code",
   "execution_count": 4,
   "metadata": {},
   "outputs": [
    {
     "name": "stdout",
     "output_type": "stream",
     "text": [
      "torch.Size([1024, 2048])\n",
      "torch.Size([1024])\n",
      "torch.Size([3, 1024])\n",
      "torch.Size([3])\n",
      "4\n"
     ]
    }
   ],
   "source": [
    "for n, p in model.named_parameters():\n",
    "    if n.split('.')[0] == 'fc':\n",
    "        pass\n",
    "    else:\n",
    "        p.requires_grad = False\n",
    "\n",
    "count = 0\n",
    "for p in model.parameters():\n",
    "    if p.requires_grad:\n",
    "        print(p.size())\n",
    "        count += 1\n",
    "print(count)"
   ]
  },
  {
   "cell_type": "code",
   "execution_count": 5,
   "metadata": {},
   "outputs": [],
   "source": [
    "def validation(model, testloader, criterion):\n",
    "    test_loss = 0\n",
    "    accuracy = 0\n",
    "    for images, labels in testloader:\n",
    "\n",
    "        output = model.forward(images.cuda())\n",
    "        labels = labels.type(torch.LongTensor).cuda()\n",
    "        test_loss += criterion(output, labels).item()\n",
    "    \n",
    "    return test_loss"
   ]
  },
  {
   "cell_type": "code",
   "execution_count": 6,
   "metadata": {},
   "outputs": [],
   "source": [
    "checkpoint_run = False"
   ]
  },
  {
   "cell_type": "code",
   "execution_count": 9,
   "metadata": {},
   "outputs": [
    {
     "name": "stdout",
     "output_type": "stream",
     "text": [
      "Epoch: 2/100..  Training Loss: 0.6459..  valid Loss: 0.7102.. \n",
      "Epoch: 3/100..  Training Loss: 0.6182..  valid Loss: 0.7192.. \n",
      "Epoch: 4/100..  Training Loss: 0.6109..  valid Loss: 0.7853.. \n",
      "Epoch: 5/100..  Training Loss: 0.6169..  valid Loss: 0.7909.. \n",
      "Epoch: 7/100..  Training Loss: 0.5978..  valid Loss: 0.9134.. \n",
      "Epoch: 8/100..  Training Loss: 0.6257..  valid Loss: 0.9312.. \n",
      "Epoch: 9/100..  Training Loss: 0.5913..  valid Loss: 0.7699.. \n",
      "Epoch: 10/100..  Training Loss: 0.5904..  valid Loss: 0.7873.. \n",
      "Epoch: 12/100..  Training Loss: 0.5582..  valid Loss: 0.8270.. \n",
      "Epoch: 13/100..  Training Loss: 0.5934..  valid Loss: 0.7789.. \n",
      "Epoch: 14/100..  Training Loss: 0.5821..  valid Loss: 0.6804.. \n",
      "Epoch: 15/100..  Training Loss: 0.6277..  valid Loss: 0.6350.. \n",
      "Epoch: 17/100..  Training Loss: 0.6199..  valid Loss: 0.6377.. \n",
      "Epoch: 18/100..  Training Loss: 0.6319..  valid Loss: 0.6544.. \n",
      "Epoch: 19/100..  Training Loss: 0.5570..  valid Loss: 0.7141.. \n",
      "Epoch: 20/100..  Training Loss: 0.5693..  valid Loss: 0.6972.. \n",
      "Epoch: 22/100..  Training Loss: 0.5784..  valid Loss: 0.7490.. \n",
      "Epoch: 23/100..  Training Loss: 0.5853..  valid Loss: 0.7418.. \n",
      "Epoch: 24/100..  Training Loss: 0.5740..  valid Loss: 0.7907.. \n",
      "Epoch: 25/100..  Training Loss: 0.5367..  valid Loss: 0.7833.. \n",
      "Epoch: 27/100..  Training Loss: 0.5140..  valid Loss: 0.8624.. \n",
      "Epoch: 28/100..  Training Loss: 0.5684..  valid Loss: 0.7946.. \n",
      "Epoch: 29/100..  Training Loss: 0.5648..  valid Loss: 0.7883.. \n",
      "Epoch: 30/100..  Training Loss: 0.5458..  valid Loss: 0.7297.. \n",
      "Epoch: 32/100..  Training Loss: 0.5481..  valid Loss: 0.7109.. \n",
      "Epoch: 33/100..  Training Loss: 0.5420..  valid Loss: 0.7085.. \n",
      "Epoch: 34/100..  Training Loss: 0.5190..  valid Loss: 0.7629.. \n",
      "Epoch: 35/100..  Training Loss: 0.4929..  valid Loss: 0.7701.. \n",
      "Epoch: 37/100..  Training Loss: 0.5242..  valid Loss: 0.8623.. \n",
      "Epoch: 38/100..  Training Loss: 0.5255..  valid Loss: 0.6996.. \n",
      "Epoch: 39/100..  Training Loss: 0.5355..  valid Loss: 0.7381.. \n",
      "Epoch: 40/100..  Training Loss: 0.5240..  valid Loss: 0.7641.. \n",
      "Epoch: 42/100..  Training Loss: 0.5036..  valid Loss: 0.8097.. \n",
      "Epoch: 43/100..  Training Loss: 0.4921..  valid Loss: 0.7878.. \n",
      "Epoch: 44/100..  Training Loss: 0.4955..  valid Loss: 0.8930.. \n",
      "Epoch: 45/100..  Training Loss: 0.5197..  valid Loss: 0.7631.. \n",
      "Epoch: 47/100..  Training Loss: 0.5264..  valid Loss: 0.7502.. \n",
      "Epoch: 48/100..  Training Loss: 0.5084..  valid Loss: 0.7794.. \n",
      "Epoch: 49/100..  Training Loss: 0.4831..  valid Loss: 0.8384.. \n",
      "Epoch: 50/100..  Training Loss: 0.4861..  valid Loss: 0.7315.. \n",
      "Epoch: 52/100..  Training Loss: 0.4895..  valid Loss: 0.7890.. \n",
      "Epoch: 53/100..  Training Loss: 0.5032..  valid Loss: 0.7448.. \n",
      "Epoch: 54/100..  Training Loss: 0.4846..  valid Loss: 0.7375.. \n",
      "Epoch: 55/100..  Training Loss: 0.4433..  valid Loss: 0.7025.. \n",
      "Epoch: 57/100..  Training Loss: 0.4470..  valid Loss: 0.8006.. \n",
      "Epoch: 58/100..  Training Loss: 0.4528..  valid Loss: 0.8092.. \n",
      "Epoch: 59/100..  Training Loss: 0.4615..  valid Loss: 0.8368.. \n",
      "Epoch: 60/100..  Training Loss: 0.4835..  valid Loss: 0.9078.. \n",
      "Epoch: 62/100..  Training Loss: 0.4759..  valid Loss: 0.9793.. \n",
      "Epoch: 63/100..  Training Loss: 0.4994..  valid Loss: 0.9020.. \n",
      "Epoch: 64/100..  Training Loss: 0.4680..  valid Loss: 0.8637.. \n",
      "Epoch: 65/100..  Training Loss: 0.4684..  valid Loss: 0.9304.. \n",
      "Epoch: 67/100..  Training Loss: 0.4640..  valid Loss: 0.9089.. \n",
      "Epoch: 68/100..  Training Loss: 0.4847..  valid Loss: 0.8152.. \n",
      "Epoch: 69/100..  Training Loss: 0.4265..  valid Loss: 0.8491.. \n",
      "Epoch: 70/100..  Training Loss: 0.4557..  valid Loss: 0.8121.. \n"
     ]
    },
    {
     "ename": "KeyboardInterrupt",
     "evalue": "",
     "output_type": "error",
     "traceback": [
      "\u001b[0;31m---------------------------------------------------------------------------\u001b[0m",
      "\u001b[0;31mKeyboardInterrupt\u001b[0m                         Traceback (most recent call last)",
      "\u001b[0;32m<ipython-input-9-3fa0158151f5>\u001b[0m in \u001b[0;36m<module>\u001b[0;34m()\u001b[0m\n\u001b[1;32m     40\u001b[0m         \u001b[0mloss\u001b[0m\u001b[0;34m.\u001b[0m\u001b[0mbackward\u001b[0m\u001b[0;34m(\u001b[0m\u001b[0;34m)\u001b[0m\u001b[0;34m\u001b[0m\u001b[0m\n\u001b[1;32m     41\u001b[0m         \u001b[0moptimizer\u001b[0m\u001b[0;34m.\u001b[0m\u001b[0mstep\u001b[0m\u001b[0;34m(\u001b[0m\u001b[0;34m)\u001b[0m\u001b[0;34m\u001b[0m\u001b[0m\n\u001b[0;32m---> 42\u001b[0;31m         \u001b[0mrunning_loss\u001b[0m \u001b[0;34m+=\u001b[0m \u001b[0mloss\u001b[0m\u001b[0;34m.\u001b[0m\u001b[0mitem\u001b[0m\u001b[0;34m(\u001b[0m\u001b[0;34m)\u001b[0m\u001b[0;34m\u001b[0m\u001b[0m\n\u001b[0m\u001b[1;32m     43\u001b[0m \u001b[0;34m\u001b[0m\u001b[0m\n\u001b[1;32m     44\u001b[0m         \u001b[0;32mif\u001b[0m \u001b[0msteps\u001b[0m \u001b[0;34m%\u001b[0m \u001b[0mlog_every\u001b[0m \u001b[0;34m==\u001b[0m \u001b[0;36m0\u001b[0m\u001b[0;34m:\u001b[0m\u001b[0;34m\u001b[0m\u001b[0m\n",
      "\u001b[0;31mKeyboardInterrupt\u001b[0m: "
     ]
    }
   ],
   "source": [
    "\n",
    "SAVE_PATH = \"../Models/3_Classify/\"\n",
    "\n",
    "# writer = SummaryWriter()\n",
    "model = model.cuda()\n",
    "criterion = nn.CrossEntropyLoss().cuda()\n",
    "\n",
    "optimizer = torch.optim.Adam(model.fc.parameters(), lr=4e-4)\n",
    "if checkpoint_run:\n",
    "    optimizer.load_state_dict(inf['optimizer_state_dict'])\n",
    "\n",
    "best_train_loss = 0.7\n",
    "best_val_loss = 0.7\n",
    "\n",
    "# scheduler = lr_scheduler.MultiStepLR(optimizer, milestones=[5, 15, 25, 40, 50], gamma=0.1)\n",
    "\n",
    "num_epochs = 100\n",
    "running_loss = 0\n",
    "steps = 0\n",
    "print_every = 10\n",
    "log_every = 10\n",
    "log_step = 0\n",
    "\n",
    "\n",
    "log_every = 10\n",
    "for epoch in range(num_epochs):\n",
    "    model.train()\n",
    "#     scheduler.step()\n",
    "    for data_ in trainloader:\n",
    "        steps += 1\n",
    "        img, bbox = data_\n",
    "        \n",
    "        img = img.cuda()\n",
    "        target = bbox.type(torch.LongTensor).cuda()\n",
    "        \n",
    "        output = model(img)\n",
    "        loss = criterion(output, target)\n",
    "        \n",
    "        optimizer.zero_grad()\n",
    "        loss.backward()\n",
    "        optimizer.step()\n",
    "        running_loss += loss.item()\n",
    "        \n",
    "        if steps % log_every == 0:\n",
    "            log_step += 1\n",
    "            model.eval()\n",
    "\n",
    "            with torch.no_grad():\n",
    "                valid_loss = validation(model, testloader, criterion)\n",
    "            model.train()\n",
    "            \n",
    "            train_loss = running_loss/log_every\n",
    "            val_loss = valid_loss/len(testloader)\n",
    "            \n",
    "#             writer.add_scalar('Training Loss', train_loss, log_step)\n",
    "#             writer.add_scalar('Validation Loss', val_loss, log_step)\n",
    "#             writer.add_scalar('Learning rate', optimizer.state_dict()['param_groups'][0]['lr'], log_step)\n",
    "            \n",
    "            if val_loss < best_val_loss and train_loss < best_train_loss:\n",
    "                torch.save({\n",
    "                    'epoch': epoch,\n",
    "                    'model_state_dict': model.state_dict(),\n",
    "                    'optimizer_state_dict': optimizer.state_dict(),\n",
    "                    'train_loss': train_loss,\n",
    "                    'val_loss': val_loss\n",
    "            }, SAVE_PATH + \"resnet152_3_epoch{}_step{}.pkl\".format(epoch, steps))\n",
    "                best_train_loss = train_loss\n",
    "                best_val_loss = val_loss\n",
    "            running_loss = 0\n",
    "            \n",
    "        if steps % print_every == 0:\n",
    "            print(\"Epoch: {}/{}.. \".format(epoch+1, num_epochs),\n",
    "                  \"Training Loss: {:.4f}.. \".format(train_loss),\n",
    "                  \"valid Loss: {:.4f}.. \".format(val_loss))\n",
    "# writer.close()"
   ]
  },
  {
   "cell_type": "code",
   "execution_count": 13,
   "metadata": {},
   "outputs": [],
   "source": [
    "model = model.cuda()\n",
    "model.eval()\n",
    "\n",
    "y_pred = list()\n",
    "y_true = list()\n",
    "\n",
    "with torch.no_grad():\n",
    "    for imgs, op in iter(trainloader):\n",
    "        k = model.forward(imgs.cuda())\n",
    "        y_pred.extend(list(np.argmax(k.cpu().data.numpy(), axis=1)))\n",
    "        y_true.extend(op.cpu().data.numpy())"
   ]
  },
  {
   "cell_type": "markdown",
   "metadata": {},
   "source": [
    "# Confusion Matrix"
   ]
  },
  {
   "cell_type": "code",
   "execution_count": 14,
   "metadata": {},
   "outputs": [
    {
     "data": {
      "image/png": "[encoded data removed]",
      "text/plain": [
       "<matplotlib.figure.Figure at 0x7fc2c2f71748>"
      ]
     },
     "metadata": {},
     "output_type": "display_data"
    }
   ],
   "source": [
    "conf_matrix = confusion_matrix(y_pred=y_pred, y_true=y_true)\n",
    "_ = sns.heatmap(conf_matrix, annot=True)"
   ]
  },
  {
   "cell_type": "markdown",
   "metadata": {},
   "source": [
    "# Performance Metrics"
   ]
  },
  {
   "cell_type": "code",
   "execution_count": 15,
   "metadata": {},
   "outputs": [
    {
     "name": "stdout",
     "output_type": "stream",
     "text": [
      "              precision    recall  f1-score   support\n",
      "\n",
      "           0       0.80      0.91      0.85       278\n",
      "           1       0.82      0.71      0.76       315\n",
      "           2       0.87      0.89      0.88       386\n",
      "\n",
      "   micro avg       0.83      0.83      0.83       979\n",
      "   macro avg       0.83      0.83      0.83       979\n",
      "weighted avg       0.83      0.83      0.83       979\n",
      "\n"
     ]
    }
   ],
   "source": [
    "print(classification_report(y_true=y_true, y_pred=y_pred))"
   ]
  }
 ],
 "metadata": {
  "kernelspec": {
   "display_name": "PT",
   "language": "python",
   "name": "pt"
  },
  "language_info": {
   "codemirror_mode": {
    "name": "ipython",
    "version": 3
   },
   "file_extension": ".py",
   "mimetype": "text/x-python",
   "name": "python",
   "nbconvert_exporter": "python",
   "pygments_lexer": "ipython3",
   "version": "3.6.8"
  }
 },
 "nbformat": 4,
 "nbformat_minor": 2
}
