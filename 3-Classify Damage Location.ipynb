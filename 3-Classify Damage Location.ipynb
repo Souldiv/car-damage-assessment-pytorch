{
 "cells": [
  {
   "cell_type": "code",
   "execution_count": 2,
   "metadata": {},
   "outputs": [],
   "source": [
    "import torch\n",
    "import torchvision.models as models\n",
    "import torch.nn as nn\n",
    "from torchvision import datasets, transforms\n",
    "import torch.optim as optim\n",
    "from tensorboardX import SummaryWriter\n",
    "from torch.optim import lr_scheduler\n",
    "from sklearn.metrics import confusion_matrix, classification_report\n",
    "import seaborn as sns\n",
    "\n",
    "import numpy as np\n",
    "from PIL import Image\n",
    "import json\n",
    "import os\n",
    "from collections import OrderedDict\n",
    "\n",
    "import matplotlib.pyplot as plt\n",
    "%matplotlib inline"
   ]
  },
  {
   "cell_type": "code",
   "execution_count": 5,
   "metadata": {},
   "outputs": [],
   "source": [
    "data_dir = \"car_dam/data2a/\"\n",
    "\n",
    "train_transforms = transforms.Compose([transforms.RandomRotation(30),\n",
    "                                       transforms.RandomHorizontalFlip(),\n",
    "                                      transforms.Resize(256),\n",
    "                                      transforms.CenterCrop(224),\n",
    "                                      transforms.ToTensor()])\n",
    "\n",
    "test_transforms = transforms.Compose([transforms.Resize(256),\n",
    "                                      transforms.CenterCrop(224),\n",
    "                                      transforms.ToTensor()])\n",
    "\n",
    "train_data = datasets.ImageFolder(data_dir + '/training', transform=train_transforms)\n",
    "test_data = datasets.ImageFolder(data_dir + '/validation', transform=test_transforms)\n",
    "\n",
    "trainloader = torch.utils.data.DataLoader(train_data, batch_size=128, shuffle=True)\n",
    "testloader = torch.utils.data.DataLoader(test_data, batch_size=128)"
   ]
  },
  {
   "cell_type": "code",
   "execution_count": 3,
   "metadata": {},
   "outputs": [],
   "source": [
    "model = models.resnet152(pretrained=True)\n",
    "fc_in_size = model.fc.in_features\n",
    "model.fc = nn.Sequential(OrderedDict([('fc1', nn.Linear(fc_in_size, 1024)),\n",
    "                                      ('dropout2', nn.Dropout(0.5)),\n",
    "                                      ('relu2', nn.ReLU()),\n",
    "                                      ('fc2', nn.Linear(1024, 3)),\n",
    "                                      ('output', nn.LogSoftmax(dim=1))]))"
   ]
  },
  {
   "cell_type": "code",
   "execution_count": 4,
   "metadata": {},
   "outputs": [
    {
     "name": "stdout",
     "output_type": "stream",
     "text": [
      "torch.Size([1024, 2048])\n",
      "torch.Size([1024])\n",
      "torch.Size([3, 1024])\n",
      "torch.Size([3])\n",
      "4\n"
     ]
    }
   ],
   "source": [
    "for n, p in model.named_parameters():\n",
    "    if n.split('.')[0] == 'fc':\n",
    "        pass\n",
    "    else:\n",
    "        p.requires_grad = False\n",
    "\n",
    "count = 0\n",
    "for p in model.parameters():\n",
    "    if p.requires_grad:\n",
    "        print(p.size())\n",
    "        count += 1\n",
    "print(count)"
   ]
  },
  {
   "cell_type": "code",
   "execution_count": 5,
   "metadata": {},
   "outputs": [],
   "source": [
    "def validation(model, testloader, criterion):\n",
    "    test_loss = 0\n",
    "    accuracy = 0\n",
    "    for images, labels in testloader:\n",
    "\n",
    "        output = model.forward(images.cuda())\n",
    "        labels = labels.type(torch.LongTensor).cuda()\n",
    "        test_loss += criterion(output, labels).item()\n",
    "    \n",
    "    return test_loss"
   ]
  },
  {
   "cell_type": "code",
   "execution_count": 4,
   "metadata": {},
   "outputs": [],
   "source": [
    "checkpoint_run = True\n",
    "inf = torch.load('Models/3_Classify/resnet152_epoch34_step280.pkl')\n",
    "model.load_state_dict(inf['model_state_dict'])"
   ]
  },
  {
   "cell_type": "code",
   "execution_count": 8,
   "metadata": {},
   "outputs": [
    {
     "name": "stdout",
     "output_type": "stream",
     "text": [
      "Epoch: 2/100..  Training Loss: 0.7381..  valid Loss: 0.7688.. \n",
      "Epoch: 3/100..  Training Loss: 0.7253..  valid Loss: 0.8072.. \n",
      "Epoch: 4/100..  Training Loss: 0.7495..  valid Loss: 0.7495.. \n",
      "Epoch: 5/100..  Training Loss: 0.7240..  valid Loss: 0.8005.. \n",
      "Epoch: 7/100..  Training Loss: 0.7416..  valid Loss: 0.7601.. \n",
      "Epoch: 8/100..  Training Loss: 0.7310..  valid Loss: 0.7608.. \n",
      "Epoch: 9/100..  Training Loss: 0.6997..  valid Loss: 0.7839.. \n",
      "Epoch: 10/100..  Training Loss: 0.7282..  valid Loss: 0.7591.. \n",
      "Epoch: 12/100..  Training Loss: 0.7467..  valid Loss: 0.7674.. \n",
      "Epoch: 13/100..  Training Loss: 0.7095..  valid Loss: 0.7966.. \n",
      "Epoch: 14/100..  Training Loss: 0.7383..  valid Loss: 0.7748.. \n",
      "Epoch: 15/100..  Training Loss: 0.7258..  valid Loss: 0.7682.. \n",
      "Epoch: 17/100..  Training Loss: 0.6895..  valid Loss: 0.7810.. \n",
      "Epoch: 18/100..  Training Loss: 0.7366..  valid Loss: 0.7688.. \n",
      "Epoch: 19/100..  Training Loss: 0.7121..  valid Loss: 0.7800.. \n",
      "Epoch: 20/100..  Training Loss: 0.7169..  valid Loss: 0.7572.. \n",
      "Epoch: 22/100..  Training Loss: 0.7288..  valid Loss: 0.7630.. \n",
      "Epoch: 23/100..  Training Loss: 0.7076..  valid Loss: 0.7717.. \n",
      "Epoch: 24/100..  Training Loss: 0.6974..  valid Loss: 0.8056.. \n",
      "Epoch: 25/100..  Training Loss: 0.7060..  valid Loss: 0.7404.. \n",
      "Epoch: 27/100..  Training Loss: 0.7433..  valid Loss: 0.7649.. \n",
      "Epoch: 28/100..  Training Loss: 0.7438..  valid Loss: 0.7748.. \n",
      "Epoch: 29/100..  Training Loss: 0.7315..  valid Loss: 0.7720.. \n",
      "Epoch: 30/100..  Training Loss: 0.7147..  valid Loss: 0.7608.. \n",
      "Epoch: 32/100..  Training Loss: 0.7295..  valid Loss: 0.7428.. \n",
      "Epoch: 33/100..  Training Loss: 0.7347..  valid Loss: 0.7788.. \n",
      "Epoch: 34/100..  Training Loss: 0.7460..  valid Loss: 0.7453.. \n",
      "Epoch: 35/100..  Training Loss: 0.7144..  valid Loss: 0.7727.. \n",
      "Epoch: 37/100..  Training Loss: 0.7318..  valid Loss: 0.7603.. \n",
      "Epoch: 38/100..  Training Loss: 0.7344..  valid Loss: 0.7781.. \n",
      "Epoch: 39/100..  Training Loss: 0.7288..  valid Loss: 0.7353.. \n",
      "Epoch: 40/100..  Training Loss: 0.7127..  valid Loss: 0.7972.. \n",
      "Epoch: 42/100..  Training Loss: 0.6867..  valid Loss: 0.7503.. \n",
      "Epoch: 43/100..  Training Loss: 0.6779..  valid Loss: 0.7492.. \n",
      "Epoch: 44/100..  Training Loss: 0.7744..  valid Loss: 0.7672.. \n",
      "Epoch: 45/100..  Training Loss: 0.7148..  valid Loss: 0.7667.. \n",
      "Epoch: 47/100..  Training Loss: 0.6966..  valid Loss: 0.7763.. \n",
      "Epoch: 48/100..  Training Loss: 0.7121..  valid Loss: 0.7640.. \n",
      "Epoch: 49/100..  Training Loss: 0.7352..  valid Loss: 0.7794.. \n",
      "Epoch: 50/100..  Training Loss: 0.7087..  valid Loss: 0.7685.. \n",
      "Epoch: 52/100..  Training Loss: 0.6810..  valid Loss: 0.7416.. \n",
      "Epoch: 53/100..  Training Loss: 0.7125..  valid Loss: 0.7663.. \n",
      "Epoch: 54/100..  Training Loss: 0.7213..  valid Loss: 0.7537.. \n",
      "Epoch: 55/100..  Training Loss: 0.7087..  valid Loss: 0.7405.. \n",
      "Epoch: 57/100..  Training Loss: 0.7166..  valid Loss: 0.7702.. \n",
      "Epoch: 58/100..  Training Loss: 0.7231..  valid Loss: 0.7655.. \n",
      "Epoch: 59/100..  Training Loss: 0.7092..  valid Loss: 0.7572.. \n",
      "Epoch: 60/100..  Training Loss: 0.7137..  valid Loss: 0.7499.. \n",
      "Epoch: 62/100..  Training Loss: 0.7077..  valid Loss: 0.7678.. \n",
      "Epoch: 63/100..  Training Loss: 0.6873..  valid Loss: 0.7474.. \n",
      "Epoch: 64/100..  Training Loss: 0.7158..  valid Loss: 0.7618.. \n",
      "Epoch: 65/100..  Training Loss: 0.7187..  valid Loss: 0.7661.. \n",
      "Epoch: 67/100..  Training Loss: 0.6727..  valid Loss: 0.7727.. \n",
      "Epoch: 68/100..  Training Loss: 0.6917..  valid Loss: 0.8113.. \n",
      "Epoch: 69/100..  Training Loss: 0.7260..  valid Loss: 0.7505.. \n",
      "Epoch: 70/100..  Training Loss: 0.7135..  valid Loss: 0.7591.. \n",
      "Epoch: 72/100..  Training Loss: 0.6769..  valid Loss: 0.7459.. \n",
      "Epoch: 73/100..  Training Loss: 0.7457..  valid Loss: 0.7519.. \n",
      "Epoch: 74/100..  Training Loss: 0.7238..  valid Loss: 0.7698.. \n",
      "Epoch: 75/100..  Training Loss: 0.6956..  valid Loss: 0.7713.. \n",
      "Epoch: 77/100..  Training Loss: 0.6954..  valid Loss: 0.7685.. \n",
      "Epoch: 78/100..  Training Loss: 0.7093..  valid Loss: 0.7844.. \n",
      "Epoch: 79/100..  Training Loss: 0.7118..  valid Loss: 0.7790.. \n",
      "Epoch: 80/100..  Training Loss: 0.7108..  valid Loss: 0.7595.. \n",
      "Epoch: 82/100..  Training Loss: 0.7051..  valid Loss: 0.7732.. \n",
      "Epoch: 83/100..  Training Loss: 0.7102..  valid Loss: 0.7547.. \n",
      "Epoch: 84/100..  Training Loss: 0.7236..  valid Loss: 0.7361.. \n",
      "Epoch: 85/100..  Training Loss: 0.6924..  valid Loss: 0.7566.. \n",
      "Epoch: 87/100..  Training Loss: 0.6965..  valid Loss: 0.8032.. \n",
      "Epoch: 88/100..  Training Loss: 0.7378..  valid Loss: 0.7403.. \n",
      "Epoch: 89/100..  Training Loss: 0.6992..  valid Loss: 0.7553.. \n",
      "Epoch: 90/100..  Training Loss: 0.6738..  valid Loss: 0.7482.. \n",
      "Epoch: 92/100..  Training Loss: 0.7099..  valid Loss: 0.7556.. \n",
      "Epoch: 93/100..  Training Loss: 0.6901..  valid Loss: 0.7411.. \n",
      "Epoch: 94/100..  Training Loss: 0.7195..  valid Loss: 0.7579.. \n",
      "Epoch: 95/100..  Training Loss: 0.6907..  valid Loss: 0.7270.. \n",
      "Epoch: 97/100..  Training Loss: 0.6841..  valid Loss: 0.7867.. \n",
      "Epoch: 98/100..  Training Loss: 0.6994..  valid Loss: 0.7924.. \n",
      "Epoch: 99/100..  Training Loss: 0.7179..  valid Loss: 0.7330.. \n",
      "Epoch: 100/100..  Training Loss: 0.6985..  valid Loss: 0.7655.. \n"
     ]
    }
   ],
   "source": [
    "SAVE_PATH = \"Models/3_Classify/\"\n",
    "\n",
    "# writer = SummaryWriter()\n",
    "model = model.cuda()\n",
    "criterion = nn.CrossEntropyLoss().cuda()\n",
    "\n",
    "optimizer = torch.optim.Adam(model.fc.parameters(), lr=1e-4)\n",
    "if checkpoint_run:\n",
    "    optimizer.load_state_dict(inf['optimizer_state_dict'])\n",
    "\n",
    "best_train_loss = 0.7\n",
    "best_val_loss = 0.7\n",
    "\n",
    "# scheduler = lr_scheduler.MultiStepLR(optimizer, milestones=[5, 15, 25, 40, 50], gamma=0.1)\n",
    "\n",
    "num_epochs = 100\n",
    "running_loss = 0\n",
    "steps = 0\n",
    "print_every = 10\n",
    "log_every = 10\n",
    "log_step = 0\n",
    "\n",
    "\n",
    "log_every = 10\n",
    "for epoch in range(num_epochs):\n",
    "    model.train()\n",
    "#     scheduler.step()\n",
    "    for data_ in trainloader:\n",
    "        steps += 1\n",
    "        img, bbox = data_\n",
    "        \n",
    "        img = img.cuda()\n",
    "        target = bbox.type(torch.LongTensor).cuda()\n",
    "        \n",
    "        output = model(img)\n",
    "        loss = criterion(output, target)\n",
    "        \n",
    "        optimizer.zero_grad()\n",
    "        loss.backward()\n",
    "        optimizer.step()\n",
    "        running_loss += loss.item()\n",
    "        \n",
    "        if steps % log_every == 0:\n",
    "            log_step += 1\n",
    "            model.eval()\n",
    "\n",
    "            with torch.no_grad():\n",
    "                valid_loss = validation(model, testloader, criterion)\n",
    "            model.train()\n",
    "            \n",
    "            train_loss = running_loss/log_every\n",
    "            val_loss = valid_loss/len(testloader)\n",
    "            \n",
    "#             writer.add_scalar('Training Loss', train_loss, log_step)\n",
    "#             writer.add_scalar('Validation Loss', val_loss, log_step)\n",
    "#             writer.add_scalar('Learning rate', optimizer.state_dict()['param_groups'][0]['lr'], log_step)\n",
    "            \n",
    "            if val_loss < best_val_loss and train_loss < best_train_loss:\n",
    "                torch.save({\n",
    "                    'epoch': epoch,\n",
    "                    'model_state_dict': model.state_dict(),\n",
    "                    'optimizer_state_dict': optimizer.state_dict(),\n",
    "                    'train_loss': train_loss,\n",
    "                    'val_loss': val_loss\n",
    "            }, SAVE_PATH + \"resnet152_3_epoch{}_step{}.pkl\".format(epoch, steps))\n",
    "                best_train_loss = train_loss\n",
    "                best_val_loss = val_loss\n",
    "            running_loss = 0\n",
    "            \n",
    "        if steps % print_every == 0:\n",
    "            print(\"Epoch: {}/{}.. \".format(epoch+1, num_epochs),\n",
    "                  \"Training Loss: {:.4f}.. \".format(train_loss),\n",
    "                  \"valid Loss: {:.4f}.. \".format(val_loss))\n",
    "# writer.close()"
   ]
  },
  {
   "cell_type": "code",
   "execution_count": 7,
   "metadata": {},
   "outputs": [],
   "source": [
    "model = model.cuda()\n",
    "model.eval()\n",
    "\n",
    "y_pred = list()\n",
    "y_true = list()\n",
    "\n",
    "with torch.no_grad():\n",
    "    for imgs, op in iter(testloader):\n",
    "        k = model.forward(imgs.cuda())\n",
    "        y_pred.extend(list(np.argmax(k.cpu().data.numpy(), axis=1)))\n",
    "        y_true.extend(op.cpu().data.numpy())"
   ]
  },
  {
   "cell_type": "markdown",
   "metadata": {},
   "source": [
    "## Confusion Matrix"
   ]
  },
  {
   "cell_type": "code",
   "execution_count": 10,
   "metadata": {},
   "outputs": [
    {
     "data": {
      "image/png": "[encoded data removed]",
      "text/plain": [
       "<matplotlib.figure.Figure at 0x7fcf6f53cb00>"
      ]
     },
     "metadata": {},
     "output_type": "display_data"
    }
   ],
   "source": [
    "conf_matrix = confusion_matrix(y_pred=y_pred, y_true=y_true)\n",
    "_ = sns.heatmap(conf_matrix, annot=True)"
   ]
  },
  {
   "cell_type": "code",
   "execution_count": 11,
   "metadata": {},
   "outputs": [
    {
     "name": "stdout",
     "output_type": "stream",
     "text": [
      "              precision    recall  f1-score   support\n",
      "\n",
      "           0       0.69      0.74      0.72        73\n",
      "           1       0.75      0.54      0.63        50\n",
      "           2       0.63      0.75      0.69        48\n",
      "\n",
      "   micro avg       0.68      0.68      0.68       171\n",
      "   macro avg       0.69      0.68      0.68       171\n",
      "weighted avg       0.69      0.68      0.68       171\n",
      "\n"
     ]
    }
   ],
   "source": [
    "print(classification_report(y_true=y_true, y_pred=y_pred))"
   ]
  }
 ],
 "metadata": {
  "kernelspec": {
   "display_name": "PT",
   "language": "python",
   "name": "pt"
  },
  "language_info": {
   "codemirror_mode": {
    "name": "ipython",
    "version": 3
   },
   "file_extension": ".py",
   "mimetype": "text/x-python",
   "name": "python",
   "nbconvert_exporter": "python",
   "pygments_lexer": "ipython3",
   "version": "3.6.5"
  }
 },
 "nbformat": 4,
 "nbformat_minor": 2
}
